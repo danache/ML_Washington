{
 "cells": [
  {
   "cell_type": "code",
   "execution_count": 2,
   "metadata": {
    "collapsed": true
   },
   "outputs": [],
   "source": [
    "import graphlab"
   ]
  },
  {
   "cell_type": "code",
   "execution_count": 3,
   "metadata": {
    "collapsed": false
   },
   "outputs": [
    {
     "name": "stdout",
     "output_type": "stream",
     "text": [
      "This non-commercial license of GraphLab Create for academic use is assigned to danache@126.com and will expire on October 02, 2017.\n"
     ]
    },
    {
     "name": "stderr",
     "output_type": "stream",
     "text": [
      "[INFO] graphlab.cython.cy_server: GraphLab Create v2.1 started. Logging: /tmp/graphlab_server_1475405239.log\n"
     ]
    }
   ],
   "source": [
    "sales = graphlab.SFrame('home_data.gl/')"
   ]
  },
  {
   "cell_type": "code",
   "execution_count": 4,
   "metadata": {
    "collapsed": false
   },
   "outputs": [
    {
     "data": {
      "text/html": [
       "<div style=\"max-height:1000px;max-width:1500px;overflow:auto;\"><table frame=\"box\" rules=\"cols\">\n",
       "    <tr>\n",
       "        <th style=\"padding-left: 1em; padding-right: 1em; text-align: center\">id</th>\n",
       "        <th style=\"padding-left: 1em; padding-right: 1em; text-align: center\">date</th>\n",
       "        <th style=\"padding-left: 1em; padding-right: 1em; text-align: center\">price</th>\n",
       "        <th style=\"padding-left: 1em; padding-right: 1em; text-align: center\">bedrooms</th>\n",
       "        <th style=\"padding-left: 1em; padding-right: 1em; text-align: center\">bathrooms</th>\n",
       "        <th style=\"padding-left: 1em; padding-right: 1em; text-align: center\">sqft_living</th>\n",
       "        <th style=\"padding-left: 1em; padding-right: 1em; text-align: center\">sqft_lot</th>\n",
       "        <th style=\"padding-left: 1em; padding-right: 1em; text-align: center\">floors</th>\n",
       "        <th style=\"padding-left: 1em; padding-right: 1em; text-align: center\">waterfront</th>\n",
       "    </tr>\n",
       "    <tr>\n",
       "        <td style=\"padding-left: 1em; padding-right: 1em; text-align: center; vertical-align: top\">7129300520</td>\n",
       "        <td style=\"padding-left: 1em; padding-right: 1em; text-align: center; vertical-align: top\">2014-10-13 00:00:00+00:00</td>\n",
       "        <td style=\"padding-left: 1em; padding-right: 1em; text-align: center; vertical-align: top\">221900</td>\n",
       "        <td style=\"padding-left: 1em; padding-right: 1em; text-align: center; vertical-align: top\">3</td>\n",
       "        <td style=\"padding-left: 1em; padding-right: 1em; text-align: center; vertical-align: top\">1</td>\n",
       "        <td style=\"padding-left: 1em; padding-right: 1em; text-align: center; vertical-align: top\">1180</td>\n",
       "        <td style=\"padding-left: 1em; padding-right: 1em; text-align: center; vertical-align: top\">5650</td>\n",
       "        <td style=\"padding-left: 1em; padding-right: 1em; text-align: center; vertical-align: top\">1</td>\n",
       "        <td style=\"padding-left: 1em; padding-right: 1em; text-align: center; vertical-align: top\">0</td>\n",
       "    </tr>\n",
       "    <tr>\n",
       "        <td style=\"padding-left: 1em; padding-right: 1em; text-align: center; vertical-align: top\">6414100192</td>\n",
       "        <td style=\"padding-left: 1em; padding-right: 1em; text-align: center; vertical-align: top\">2014-12-09 00:00:00+00:00</td>\n",
       "        <td style=\"padding-left: 1em; padding-right: 1em; text-align: center; vertical-align: top\">538000</td>\n",
       "        <td style=\"padding-left: 1em; padding-right: 1em; text-align: center; vertical-align: top\">3</td>\n",
       "        <td style=\"padding-left: 1em; padding-right: 1em; text-align: center; vertical-align: top\">2.25</td>\n",
       "        <td style=\"padding-left: 1em; padding-right: 1em; text-align: center; vertical-align: top\">2570</td>\n",
       "        <td style=\"padding-left: 1em; padding-right: 1em; text-align: center; vertical-align: top\">7242</td>\n",
       "        <td style=\"padding-left: 1em; padding-right: 1em; text-align: center; vertical-align: top\">2</td>\n",
       "        <td style=\"padding-left: 1em; padding-right: 1em; text-align: center; vertical-align: top\">0</td>\n",
       "    </tr>\n",
       "    <tr>\n",
       "        <td style=\"padding-left: 1em; padding-right: 1em; text-align: center; vertical-align: top\">5631500400</td>\n",
       "        <td style=\"padding-left: 1em; padding-right: 1em; text-align: center; vertical-align: top\">2015-02-25 00:00:00+00:00</td>\n",
       "        <td style=\"padding-left: 1em; padding-right: 1em; text-align: center; vertical-align: top\">180000</td>\n",
       "        <td style=\"padding-left: 1em; padding-right: 1em; text-align: center; vertical-align: top\">2</td>\n",
       "        <td style=\"padding-left: 1em; padding-right: 1em; text-align: center; vertical-align: top\">1</td>\n",
       "        <td style=\"padding-left: 1em; padding-right: 1em; text-align: center; vertical-align: top\">770</td>\n",
       "        <td style=\"padding-left: 1em; padding-right: 1em; text-align: center; vertical-align: top\">10000</td>\n",
       "        <td style=\"padding-left: 1em; padding-right: 1em; text-align: center; vertical-align: top\">1</td>\n",
       "        <td style=\"padding-left: 1em; padding-right: 1em; text-align: center; vertical-align: top\">0</td>\n",
       "    </tr>\n",
       "    <tr>\n",
       "        <td style=\"padding-left: 1em; padding-right: 1em; text-align: center; vertical-align: top\">2487200875</td>\n",
       "        <td style=\"padding-left: 1em; padding-right: 1em; text-align: center; vertical-align: top\">2014-12-09 00:00:00+00:00</td>\n",
       "        <td style=\"padding-left: 1em; padding-right: 1em; text-align: center; vertical-align: top\">604000</td>\n",
       "        <td style=\"padding-left: 1em; padding-right: 1em; text-align: center; vertical-align: top\">4</td>\n",
       "        <td style=\"padding-left: 1em; padding-right: 1em; text-align: center; vertical-align: top\">3</td>\n",
       "        <td style=\"padding-left: 1em; padding-right: 1em; text-align: center; vertical-align: top\">1960</td>\n",
       "        <td style=\"padding-left: 1em; padding-right: 1em; text-align: center; vertical-align: top\">5000</td>\n",
       "        <td style=\"padding-left: 1em; padding-right: 1em; text-align: center; vertical-align: top\">1</td>\n",
       "        <td style=\"padding-left: 1em; padding-right: 1em; text-align: center; vertical-align: top\">0</td>\n",
       "    </tr>\n",
       "    <tr>\n",
       "        <td style=\"padding-left: 1em; padding-right: 1em; text-align: center; vertical-align: top\">1954400510</td>\n",
       "        <td style=\"padding-left: 1em; padding-right: 1em; text-align: center; vertical-align: top\">2015-02-18 00:00:00+00:00</td>\n",
       "        <td style=\"padding-left: 1em; padding-right: 1em; text-align: center; vertical-align: top\">510000</td>\n",
       "        <td style=\"padding-left: 1em; padding-right: 1em; text-align: center; vertical-align: top\">3</td>\n",
       "        <td style=\"padding-left: 1em; padding-right: 1em; text-align: center; vertical-align: top\">2</td>\n",
       "        <td style=\"padding-left: 1em; padding-right: 1em; text-align: center; vertical-align: top\">1680</td>\n",
       "        <td style=\"padding-left: 1em; padding-right: 1em; text-align: center; vertical-align: top\">8080</td>\n",
       "        <td style=\"padding-left: 1em; padding-right: 1em; text-align: center; vertical-align: top\">1</td>\n",
       "        <td style=\"padding-left: 1em; padding-right: 1em; text-align: center; vertical-align: top\">0</td>\n",
       "    </tr>\n",
       "    <tr>\n",
       "        <td style=\"padding-left: 1em; padding-right: 1em; text-align: center; vertical-align: top\">7237550310</td>\n",
       "        <td style=\"padding-left: 1em; padding-right: 1em; text-align: center; vertical-align: top\">2014-05-12 00:00:00+00:00</td>\n",
       "        <td style=\"padding-left: 1em; padding-right: 1em; text-align: center; vertical-align: top\">1225000</td>\n",
       "        <td style=\"padding-left: 1em; padding-right: 1em; text-align: center; vertical-align: top\">4</td>\n",
       "        <td style=\"padding-left: 1em; padding-right: 1em; text-align: center; vertical-align: top\">4.5</td>\n",
       "        <td style=\"padding-left: 1em; padding-right: 1em; text-align: center; vertical-align: top\">5420</td>\n",
       "        <td style=\"padding-left: 1em; padding-right: 1em; text-align: center; vertical-align: top\">101930</td>\n",
       "        <td style=\"padding-left: 1em; padding-right: 1em; text-align: center; vertical-align: top\">1</td>\n",
       "        <td style=\"padding-left: 1em; padding-right: 1em; text-align: center; vertical-align: top\">0</td>\n",
       "    </tr>\n",
       "    <tr>\n",
       "        <td style=\"padding-left: 1em; padding-right: 1em; text-align: center; vertical-align: top\">1321400060</td>\n",
       "        <td style=\"padding-left: 1em; padding-right: 1em; text-align: center; vertical-align: top\">2014-06-27 00:00:00+00:00</td>\n",
       "        <td style=\"padding-left: 1em; padding-right: 1em; text-align: center; vertical-align: top\">257500</td>\n",
       "        <td style=\"padding-left: 1em; padding-right: 1em; text-align: center; vertical-align: top\">3</td>\n",
       "        <td style=\"padding-left: 1em; padding-right: 1em; text-align: center; vertical-align: top\">2.25</td>\n",
       "        <td style=\"padding-left: 1em; padding-right: 1em; text-align: center; vertical-align: top\">1715</td>\n",
       "        <td style=\"padding-left: 1em; padding-right: 1em; text-align: center; vertical-align: top\">6819</td>\n",
       "        <td style=\"padding-left: 1em; padding-right: 1em; text-align: center; vertical-align: top\">2</td>\n",
       "        <td style=\"padding-left: 1em; padding-right: 1em; text-align: center; vertical-align: top\">0</td>\n",
       "    </tr>\n",
       "    <tr>\n",
       "        <td style=\"padding-left: 1em; padding-right: 1em; text-align: center; vertical-align: top\">2008000270</td>\n",
       "        <td style=\"padding-left: 1em; padding-right: 1em; text-align: center; vertical-align: top\">2015-01-15 00:00:00+00:00</td>\n",
       "        <td style=\"padding-left: 1em; padding-right: 1em; text-align: center; vertical-align: top\">291850</td>\n",
       "        <td style=\"padding-left: 1em; padding-right: 1em; text-align: center; vertical-align: top\">3</td>\n",
       "        <td style=\"padding-left: 1em; padding-right: 1em; text-align: center; vertical-align: top\">1.5</td>\n",
       "        <td style=\"padding-left: 1em; padding-right: 1em; text-align: center; vertical-align: top\">1060</td>\n",
       "        <td style=\"padding-left: 1em; padding-right: 1em; text-align: center; vertical-align: top\">9711</td>\n",
       "        <td style=\"padding-left: 1em; padding-right: 1em; text-align: center; vertical-align: top\">1</td>\n",
       "        <td style=\"padding-left: 1em; padding-right: 1em; text-align: center; vertical-align: top\">0</td>\n",
       "    </tr>\n",
       "    <tr>\n",
       "        <td style=\"padding-left: 1em; padding-right: 1em; text-align: center; vertical-align: top\">2414600126</td>\n",
       "        <td style=\"padding-left: 1em; padding-right: 1em; text-align: center; vertical-align: top\">2015-04-15 00:00:00+00:00</td>\n",
       "        <td style=\"padding-left: 1em; padding-right: 1em; text-align: center; vertical-align: top\">229500</td>\n",
       "        <td style=\"padding-left: 1em; padding-right: 1em; text-align: center; vertical-align: top\">3</td>\n",
       "        <td style=\"padding-left: 1em; padding-right: 1em; text-align: center; vertical-align: top\">1</td>\n",
       "        <td style=\"padding-left: 1em; padding-right: 1em; text-align: center; vertical-align: top\">1780</td>\n",
       "        <td style=\"padding-left: 1em; padding-right: 1em; text-align: center; vertical-align: top\">7470</td>\n",
       "        <td style=\"padding-left: 1em; padding-right: 1em; text-align: center; vertical-align: top\">1</td>\n",
       "        <td style=\"padding-left: 1em; padding-right: 1em; text-align: center; vertical-align: top\">0</td>\n",
       "    </tr>\n",
       "    <tr>\n",
       "        <td style=\"padding-left: 1em; padding-right: 1em; text-align: center; vertical-align: top\">3793500160</td>\n",
       "        <td style=\"padding-left: 1em; padding-right: 1em; text-align: center; vertical-align: top\">2015-03-12 00:00:00+00:00</td>\n",
       "        <td style=\"padding-left: 1em; padding-right: 1em; text-align: center; vertical-align: top\">323000</td>\n",
       "        <td style=\"padding-left: 1em; padding-right: 1em; text-align: center; vertical-align: top\">3</td>\n",
       "        <td style=\"padding-left: 1em; padding-right: 1em; text-align: center; vertical-align: top\">2.5</td>\n",
       "        <td style=\"padding-left: 1em; padding-right: 1em; text-align: center; vertical-align: top\">1890</td>\n",
       "        <td style=\"padding-left: 1em; padding-right: 1em; text-align: center; vertical-align: top\">6560</td>\n",
       "        <td style=\"padding-left: 1em; padding-right: 1em; text-align: center; vertical-align: top\">2</td>\n",
       "        <td style=\"padding-left: 1em; padding-right: 1em; text-align: center; vertical-align: top\">0</td>\n",
       "    </tr>\n",
       "</table>\n",
       "<table frame=\"box\" rules=\"cols\">\n",
       "    <tr>\n",
       "        <th style=\"padding-left: 1em; padding-right: 1em; text-align: center\">view</th>\n",
       "        <th style=\"padding-left: 1em; padding-right: 1em; text-align: center\">condition</th>\n",
       "        <th style=\"padding-left: 1em; padding-right: 1em; text-align: center\">grade</th>\n",
       "        <th style=\"padding-left: 1em; padding-right: 1em; text-align: center\">sqft_above</th>\n",
       "        <th style=\"padding-left: 1em; padding-right: 1em; text-align: center\">sqft_basement</th>\n",
       "        <th style=\"padding-left: 1em; padding-right: 1em; text-align: center\">yr_built</th>\n",
       "        <th style=\"padding-left: 1em; padding-right: 1em; text-align: center\">yr_renovated</th>\n",
       "        <th style=\"padding-left: 1em; padding-right: 1em; text-align: center\">zipcode</th>\n",
       "        <th style=\"padding-left: 1em; padding-right: 1em; text-align: center\">lat</th>\n",
       "    </tr>\n",
       "    <tr>\n",
       "        <td style=\"padding-left: 1em; padding-right: 1em; text-align: center; vertical-align: top\">0</td>\n",
       "        <td style=\"padding-left: 1em; padding-right: 1em; text-align: center; vertical-align: top\">3</td>\n",
       "        <td style=\"padding-left: 1em; padding-right: 1em; text-align: center; vertical-align: top\">7</td>\n",
       "        <td style=\"padding-left: 1em; padding-right: 1em; text-align: center; vertical-align: top\">1180</td>\n",
       "        <td style=\"padding-left: 1em; padding-right: 1em; text-align: center; vertical-align: top\">0</td>\n",
       "        <td style=\"padding-left: 1em; padding-right: 1em; text-align: center; vertical-align: top\">1955</td>\n",
       "        <td style=\"padding-left: 1em; padding-right: 1em; text-align: center; vertical-align: top\">0</td>\n",
       "        <td style=\"padding-left: 1em; padding-right: 1em; text-align: center; vertical-align: top\">98178</td>\n",
       "        <td style=\"padding-left: 1em; padding-right: 1em; text-align: center; vertical-align: top\">47.51123398</td>\n",
       "    </tr>\n",
       "    <tr>\n",
       "        <td style=\"padding-left: 1em; padding-right: 1em; text-align: center; vertical-align: top\">0</td>\n",
       "        <td style=\"padding-left: 1em; padding-right: 1em; text-align: center; vertical-align: top\">3</td>\n",
       "        <td style=\"padding-left: 1em; padding-right: 1em; text-align: center; vertical-align: top\">7</td>\n",
       "        <td style=\"padding-left: 1em; padding-right: 1em; text-align: center; vertical-align: top\">2170</td>\n",
       "        <td style=\"padding-left: 1em; padding-right: 1em; text-align: center; vertical-align: top\">400</td>\n",
       "        <td style=\"padding-left: 1em; padding-right: 1em; text-align: center; vertical-align: top\">1951</td>\n",
       "        <td style=\"padding-left: 1em; padding-right: 1em; text-align: center; vertical-align: top\">1991</td>\n",
       "        <td style=\"padding-left: 1em; padding-right: 1em; text-align: center; vertical-align: top\">98125</td>\n",
       "        <td style=\"padding-left: 1em; padding-right: 1em; text-align: center; vertical-align: top\">47.72102274</td>\n",
       "    </tr>\n",
       "    <tr>\n",
       "        <td style=\"padding-left: 1em; padding-right: 1em; text-align: center; vertical-align: top\">0</td>\n",
       "        <td style=\"padding-left: 1em; padding-right: 1em; text-align: center; vertical-align: top\">3</td>\n",
       "        <td style=\"padding-left: 1em; padding-right: 1em; text-align: center; vertical-align: top\">6</td>\n",
       "        <td style=\"padding-left: 1em; padding-right: 1em; text-align: center; vertical-align: top\">770</td>\n",
       "        <td style=\"padding-left: 1em; padding-right: 1em; text-align: center; vertical-align: top\">0</td>\n",
       "        <td style=\"padding-left: 1em; padding-right: 1em; text-align: center; vertical-align: top\">1933</td>\n",
       "        <td style=\"padding-left: 1em; padding-right: 1em; text-align: center; vertical-align: top\">0</td>\n",
       "        <td style=\"padding-left: 1em; padding-right: 1em; text-align: center; vertical-align: top\">98028</td>\n",
       "        <td style=\"padding-left: 1em; padding-right: 1em; text-align: center; vertical-align: top\">47.73792661</td>\n",
       "    </tr>\n",
       "    <tr>\n",
       "        <td style=\"padding-left: 1em; padding-right: 1em; text-align: center; vertical-align: top\">0</td>\n",
       "        <td style=\"padding-left: 1em; padding-right: 1em; text-align: center; vertical-align: top\">5</td>\n",
       "        <td style=\"padding-left: 1em; padding-right: 1em; text-align: center; vertical-align: top\">7</td>\n",
       "        <td style=\"padding-left: 1em; padding-right: 1em; text-align: center; vertical-align: top\">1050</td>\n",
       "        <td style=\"padding-left: 1em; padding-right: 1em; text-align: center; vertical-align: top\">910</td>\n",
       "        <td style=\"padding-left: 1em; padding-right: 1em; text-align: center; vertical-align: top\">1965</td>\n",
       "        <td style=\"padding-left: 1em; padding-right: 1em; text-align: center; vertical-align: top\">0</td>\n",
       "        <td style=\"padding-left: 1em; padding-right: 1em; text-align: center; vertical-align: top\">98136</td>\n",
       "        <td style=\"padding-left: 1em; padding-right: 1em; text-align: center; vertical-align: top\">47.52082</td>\n",
       "    </tr>\n",
       "    <tr>\n",
       "        <td style=\"padding-left: 1em; padding-right: 1em; text-align: center; vertical-align: top\">0</td>\n",
       "        <td style=\"padding-left: 1em; padding-right: 1em; text-align: center; vertical-align: top\">3</td>\n",
       "        <td style=\"padding-left: 1em; padding-right: 1em; text-align: center; vertical-align: top\">8</td>\n",
       "        <td style=\"padding-left: 1em; padding-right: 1em; text-align: center; vertical-align: top\">1680</td>\n",
       "        <td style=\"padding-left: 1em; padding-right: 1em; text-align: center; vertical-align: top\">0</td>\n",
       "        <td style=\"padding-left: 1em; padding-right: 1em; text-align: center; vertical-align: top\">1987</td>\n",
       "        <td style=\"padding-left: 1em; padding-right: 1em; text-align: center; vertical-align: top\">0</td>\n",
       "        <td style=\"padding-left: 1em; padding-right: 1em; text-align: center; vertical-align: top\">98074</td>\n",
       "        <td style=\"padding-left: 1em; padding-right: 1em; text-align: center; vertical-align: top\">47.61681228</td>\n",
       "    </tr>\n",
       "    <tr>\n",
       "        <td style=\"padding-left: 1em; padding-right: 1em; text-align: center; vertical-align: top\">0</td>\n",
       "        <td style=\"padding-left: 1em; padding-right: 1em; text-align: center; vertical-align: top\">3</td>\n",
       "        <td style=\"padding-left: 1em; padding-right: 1em; text-align: center; vertical-align: top\">11</td>\n",
       "        <td style=\"padding-left: 1em; padding-right: 1em; text-align: center; vertical-align: top\">3890</td>\n",
       "        <td style=\"padding-left: 1em; padding-right: 1em; text-align: center; vertical-align: top\">1530</td>\n",
       "        <td style=\"padding-left: 1em; padding-right: 1em; text-align: center; vertical-align: top\">2001</td>\n",
       "        <td style=\"padding-left: 1em; padding-right: 1em; text-align: center; vertical-align: top\">0</td>\n",
       "        <td style=\"padding-left: 1em; padding-right: 1em; text-align: center; vertical-align: top\">98053</td>\n",
       "        <td style=\"padding-left: 1em; padding-right: 1em; text-align: center; vertical-align: top\">47.65611835</td>\n",
       "    </tr>\n",
       "    <tr>\n",
       "        <td style=\"padding-left: 1em; padding-right: 1em; text-align: center; vertical-align: top\">0</td>\n",
       "        <td style=\"padding-left: 1em; padding-right: 1em; text-align: center; vertical-align: top\">3</td>\n",
       "        <td style=\"padding-left: 1em; padding-right: 1em; text-align: center; vertical-align: top\">7</td>\n",
       "        <td style=\"padding-left: 1em; padding-right: 1em; text-align: center; vertical-align: top\">1715</td>\n",
       "        <td style=\"padding-left: 1em; padding-right: 1em; text-align: center; vertical-align: top\">0</td>\n",
       "        <td style=\"padding-left: 1em; padding-right: 1em; text-align: center; vertical-align: top\">1995</td>\n",
       "        <td style=\"padding-left: 1em; padding-right: 1em; text-align: center; vertical-align: top\">0</td>\n",
       "        <td style=\"padding-left: 1em; padding-right: 1em; text-align: center; vertical-align: top\">98003</td>\n",
       "        <td style=\"padding-left: 1em; padding-right: 1em; text-align: center; vertical-align: top\">47.30972002</td>\n",
       "    </tr>\n",
       "    <tr>\n",
       "        <td style=\"padding-left: 1em; padding-right: 1em; text-align: center; vertical-align: top\">0</td>\n",
       "        <td style=\"padding-left: 1em; padding-right: 1em; text-align: center; vertical-align: top\">3</td>\n",
       "        <td style=\"padding-left: 1em; padding-right: 1em; text-align: center; vertical-align: top\">7</td>\n",
       "        <td style=\"padding-left: 1em; padding-right: 1em; text-align: center; vertical-align: top\">1060</td>\n",
       "        <td style=\"padding-left: 1em; padding-right: 1em; text-align: center; vertical-align: top\">0</td>\n",
       "        <td style=\"padding-left: 1em; padding-right: 1em; text-align: center; vertical-align: top\">1963</td>\n",
       "        <td style=\"padding-left: 1em; padding-right: 1em; text-align: center; vertical-align: top\">0</td>\n",
       "        <td style=\"padding-left: 1em; padding-right: 1em; text-align: center; vertical-align: top\">98198</td>\n",
       "        <td style=\"padding-left: 1em; padding-right: 1em; text-align: center; vertical-align: top\">47.40949984</td>\n",
       "    </tr>\n",
       "    <tr>\n",
       "        <td style=\"padding-left: 1em; padding-right: 1em; text-align: center; vertical-align: top\">0</td>\n",
       "        <td style=\"padding-left: 1em; padding-right: 1em; text-align: center; vertical-align: top\">3</td>\n",
       "        <td style=\"padding-left: 1em; padding-right: 1em; text-align: center; vertical-align: top\">7</td>\n",
       "        <td style=\"padding-left: 1em; padding-right: 1em; text-align: center; vertical-align: top\">1050</td>\n",
       "        <td style=\"padding-left: 1em; padding-right: 1em; text-align: center; vertical-align: top\">730</td>\n",
       "        <td style=\"padding-left: 1em; padding-right: 1em; text-align: center; vertical-align: top\">1960</td>\n",
       "        <td style=\"padding-left: 1em; padding-right: 1em; text-align: center; vertical-align: top\">0</td>\n",
       "        <td style=\"padding-left: 1em; padding-right: 1em; text-align: center; vertical-align: top\">98146</td>\n",
       "        <td style=\"padding-left: 1em; padding-right: 1em; text-align: center; vertical-align: top\">47.51229381</td>\n",
       "    </tr>\n",
       "    <tr>\n",
       "        <td style=\"padding-left: 1em; padding-right: 1em; text-align: center; vertical-align: top\">0</td>\n",
       "        <td style=\"padding-left: 1em; padding-right: 1em; text-align: center; vertical-align: top\">3</td>\n",
       "        <td style=\"padding-left: 1em; padding-right: 1em; text-align: center; vertical-align: top\">7</td>\n",
       "        <td style=\"padding-left: 1em; padding-right: 1em; text-align: center; vertical-align: top\">1890</td>\n",
       "        <td style=\"padding-left: 1em; padding-right: 1em; text-align: center; vertical-align: top\">0</td>\n",
       "        <td style=\"padding-left: 1em; padding-right: 1em; text-align: center; vertical-align: top\">2003</td>\n",
       "        <td style=\"padding-left: 1em; padding-right: 1em; text-align: center; vertical-align: top\">0</td>\n",
       "        <td style=\"padding-left: 1em; padding-right: 1em; text-align: center; vertical-align: top\">98038</td>\n",
       "        <td style=\"padding-left: 1em; padding-right: 1em; text-align: center; vertical-align: top\">47.36840673</td>\n",
       "    </tr>\n",
       "</table>\n",
       "<table frame=\"box\" rules=\"cols\">\n",
       "    <tr>\n",
       "        <th style=\"padding-left: 1em; padding-right: 1em; text-align: center\">long</th>\n",
       "        <th style=\"padding-left: 1em; padding-right: 1em; text-align: center\">sqft_living15</th>\n",
       "        <th style=\"padding-left: 1em; padding-right: 1em; text-align: center\">sqft_lot15</th>\n",
       "    </tr>\n",
       "    <tr>\n",
       "        <td style=\"padding-left: 1em; padding-right: 1em; text-align: center; vertical-align: top\">-122.25677536</td>\n",
       "        <td style=\"padding-left: 1em; padding-right: 1em; text-align: center; vertical-align: top\">1340.0</td>\n",
       "        <td style=\"padding-left: 1em; padding-right: 1em; text-align: center; vertical-align: top\">5650.0</td>\n",
       "    </tr>\n",
       "    <tr>\n",
       "        <td style=\"padding-left: 1em; padding-right: 1em; text-align: center; vertical-align: top\">-122.3188624</td>\n",
       "        <td style=\"padding-left: 1em; padding-right: 1em; text-align: center; vertical-align: top\">1690.0</td>\n",
       "        <td style=\"padding-left: 1em; padding-right: 1em; text-align: center; vertical-align: top\">7639.0</td>\n",
       "    </tr>\n",
       "    <tr>\n",
       "        <td style=\"padding-left: 1em; padding-right: 1em; text-align: center; vertical-align: top\">-122.23319601</td>\n",
       "        <td style=\"padding-left: 1em; padding-right: 1em; text-align: center; vertical-align: top\">2720.0</td>\n",
       "        <td style=\"padding-left: 1em; padding-right: 1em; text-align: center; vertical-align: top\">8062.0</td>\n",
       "    </tr>\n",
       "    <tr>\n",
       "        <td style=\"padding-left: 1em; padding-right: 1em; text-align: center; vertical-align: top\">-122.39318505</td>\n",
       "        <td style=\"padding-left: 1em; padding-right: 1em; text-align: center; vertical-align: top\">1360.0</td>\n",
       "        <td style=\"padding-left: 1em; padding-right: 1em; text-align: center; vertical-align: top\">5000.0</td>\n",
       "    </tr>\n",
       "    <tr>\n",
       "        <td style=\"padding-left: 1em; padding-right: 1em; text-align: center; vertical-align: top\">-122.04490059</td>\n",
       "        <td style=\"padding-left: 1em; padding-right: 1em; text-align: center; vertical-align: top\">1800.0</td>\n",
       "        <td style=\"padding-left: 1em; padding-right: 1em; text-align: center; vertical-align: top\">7503.0</td>\n",
       "    </tr>\n",
       "    <tr>\n",
       "        <td style=\"padding-left: 1em; padding-right: 1em; text-align: center; vertical-align: top\">-122.00528655</td>\n",
       "        <td style=\"padding-left: 1em; padding-right: 1em; text-align: center; vertical-align: top\">4760.0</td>\n",
       "        <td style=\"padding-left: 1em; padding-right: 1em; text-align: center; vertical-align: top\">101930.0</td>\n",
       "    </tr>\n",
       "    <tr>\n",
       "        <td style=\"padding-left: 1em; padding-right: 1em; text-align: center; vertical-align: top\">-122.32704857</td>\n",
       "        <td style=\"padding-left: 1em; padding-right: 1em; text-align: center; vertical-align: top\">2238.0</td>\n",
       "        <td style=\"padding-left: 1em; padding-right: 1em; text-align: center; vertical-align: top\">6819.0</td>\n",
       "    </tr>\n",
       "    <tr>\n",
       "        <td style=\"padding-left: 1em; padding-right: 1em; text-align: center; vertical-align: top\">-122.31457273</td>\n",
       "        <td style=\"padding-left: 1em; padding-right: 1em; text-align: center; vertical-align: top\">1650.0</td>\n",
       "        <td style=\"padding-left: 1em; padding-right: 1em; text-align: center; vertical-align: top\">9711.0</td>\n",
       "    </tr>\n",
       "    <tr>\n",
       "        <td style=\"padding-left: 1em; padding-right: 1em; text-align: center; vertical-align: top\">-122.33659507</td>\n",
       "        <td style=\"padding-left: 1em; padding-right: 1em; text-align: center; vertical-align: top\">1780.0</td>\n",
       "        <td style=\"padding-left: 1em; padding-right: 1em; text-align: center; vertical-align: top\">8113.0</td>\n",
       "    </tr>\n",
       "    <tr>\n",
       "        <td style=\"padding-left: 1em; padding-right: 1em; text-align: center; vertical-align: top\">-122.0308176</td>\n",
       "        <td style=\"padding-left: 1em; padding-right: 1em; text-align: center; vertical-align: top\">2390.0</td>\n",
       "        <td style=\"padding-left: 1em; padding-right: 1em; text-align: center; vertical-align: top\">7570.0</td>\n",
       "    </tr>\n",
       "</table>\n",
       "[21613 rows x 21 columns]<br/>Note: Only the head of the SFrame is printed.<br/>You can use print_rows(num_rows=m, num_columns=n) to print more rows and columns.\n",
       "</div>"
      ],
      "text/plain": [
       "Columns:\n",
       "\tid\tstr\n",
       "\tdate\tdatetime\n",
       "\tprice\tint\n",
       "\tbedrooms\tstr\n",
       "\tbathrooms\tstr\n",
       "\tsqft_living\tint\n",
       "\tsqft_lot\tint\n",
       "\tfloors\tstr\n",
       "\twaterfront\tint\n",
       "\tview\tint\n",
       "\tcondition\tint\n",
       "\tgrade\tint\n",
       "\tsqft_above\tint\n",
       "\tsqft_basement\tint\n",
       "\tyr_built\tint\n",
       "\tyr_renovated\tint\n",
       "\tzipcode\tstr\n",
       "\tlat\tfloat\n",
       "\tlong\tfloat\n",
       "\tsqft_living15\tfloat\n",
       "\tsqft_lot15\tfloat\n",
       "\n",
       "Rows: 21613\n",
       "\n",
       "Data:\n",
       "+------------+---------------------------+---------+----------+-----------+-------------+\n",
       "|     id     |            date           |  price  | bedrooms | bathrooms | sqft_living |\n",
       "+------------+---------------------------+---------+----------+-----------+-------------+\n",
       "| 7129300520 | 2014-10-13 00:00:00+00:00 |  221900 |    3     |     1     |     1180    |\n",
       "| 6414100192 | 2014-12-09 00:00:00+00:00 |  538000 |    3     |    2.25   |     2570    |\n",
       "| 5631500400 | 2015-02-25 00:00:00+00:00 |  180000 |    2     |     1     |     770     |\n",
       "| 2487200875 | 2014-12-09 00:00:00+00:00 |  604000 |    4     |     3     |     1960    |\n",
       "| 1954400510 | 2015-02-18 00:00:00+00:00 |  510000 |    3     |     2     |     1680    |\n",
       "| 7237550310 | 2014-05-12 00:00:00+00:00 | 1225000 |    4     |    4.5    |     5420    |\n",
       "| 1321400060 | 2014-06-27 00:00:00+00:00 |  257500 |    3     |    2.25   |     1715    |\n",
       "| 2008000270 | 2015-01-15 00:00:00+00:00 |  291850 |    3     |    1.5    |     1060    |\n",
       "| 2414600126 | 2015-04-15 00:00:00+00:00 |  229500 |    3     |     1     |     1780    |\n",
       "| 3793500160 | 2015-03-12 00:00:00+00:00 |  323000 |    3     |    2.5    |     1890    |\n",
       "+------------+---------------------------+---------+----------+-----------+-------------+\n",
       "+----------+--------+------------+------+-----------+-------+------------+---------------+\n",
       "| sqft_lot | floors | waterfront | view | condition | grade | sqft_above | sqft_basement |\n",
       "+----------+--------+------------+------+-----------+-------+------------+---------------+\n",
       "|   5650   |   1    |     0      |  0   |     3     |   7   |    1180    |       0       |\n",
       "|   7242   |   2    |     0      |  0   |     3     |   7   |    2170    |      400      |\n",
       "|  10000   |   1    |     0      |  0   |     3     |   6   |    770     |       0       |\n",
       "|   5000   |   1    |     0      |  0   |     5     |   7   |    1050    |      910      |\n",
       "|   8080   |   1    |     0      |  0   |     3     |   8   |    1680    |       0       |\n",
       "|  101930  |   1    |     0      |  0   |     3     |   11  |    3890    |      1530     |\n",
       "|   6819   |   2    |     0      |  0   |     3     |   7   |    1715    |       0       |\n",
       "|   9711   |   1    |     0      |  0   |     3     |   7   |    1060    |       0       |\n",
       "|   7470   |   1    |     0      |  0   |     3     |   7   |    1050    |      730      |\n",
       "|   6560   |   2    |     0      |  0   |     3     |   7   |    1890    |       0       |\n",
       "+----------+--------+------------+------+-----------+-------+------------+---------------+\n",
       "+----------+--------------+---------+-------------+---------------+---------------+-----+\n",
       "| yr_built | yr_renovated | zipcode |     lat     |      long     | sqft_living15 | ... |\n",
       "+----------+--------------+---------+-------------+---------------+---------------+-----+\n",
       "|   1955   |      0       |  98178  | 47.51123398 | -122.25677536 |     1340.0    | ... |\n",
       "|   1951   |     1991     |  98125  | 47.72102274 |  -122.3188624 |     1690.0    | ... |\n",
       "|   1933   |      0       |  98028  | 47.73792661 | -122.23319601 |     2720.0    | ... |\n",
       "|   1965   |      0       |  98136  |   47.52082  | -122.39318505 |     1360.0    | ... |\n",
       "|   1987   |      0       |  98074  | 47.61681228 | -122.04490059 |     1800.0    | ... |\n",
       "|   2001   |      0       |  98053  | 47.65611835 | -122.00528655 |     4760.0    | ... |\n",
       "|   1995   |      0       |  98003  | 47.30972002 | -122.32704857 |     2238.0    | ... |\n",
       "|   1963   |      0       |  98198  | 47.40949984 | -122.31457273 |     1650.0    | ... |\n",
       "|   1960   |      0       |  98146  | 47.51229381 | -122.33659507 |     1780.0    | ... |\n",
       "|   2003   |      0       |  98038  | 47.36840673 |  -122.0308176 |     2390.0    | ... |\n",
       "+----------+--------------+---------+-------------+---------------+---------------+-----+\n",
       "[21613 rows x 21 columns]\n",
       "Note: Only the head of the SFrame is printed.\n",
       "You can use print_rows(num_rows=m, num_columns=n) to print more rows and columns."
      ]
     },
     "execution_count": 4,
     "metadata": {},
     "output_type": "execute_result"
    }
   ],
   "source": [
    "sales"
   ]
  },
  {
   "cell_type": "markdown",
   "metadata": {},
   "source": [
    "# Exploring the data"
   ]
  },
  {
   "cell_type": "code",
   "execution_count": 23,
   "metadata": {
    "collapsed": false
   },
   "outputs": [
    {
     "data": {
      "application/javascript": [
       "$(\"head\").append($(\"<link/>\").attr({\n",
       "  rel:  \"stylesheet\",\n",
       "  type: \"text/css\",\n",
       "  href: \"//cdnjs.cloudflare.com/ajax/libs/font-awesome/4.1.0/css/font-awesome.min.css\"\n",
       "}));\n",
       "$(\"head\").append($(\"<link/>\").attr({\n",
       "  rel:  \"stylesheet\",\n",
       "  type: \"text/css\",\n",
       "  href: \"https://static.turi.com/products/graphlab-create/2.1/canvas/css/canvas.css\"\n",
       "}));\n",
       "\n",
       "            (function(){\n",
       "\n",
       "                var e = null;\n",
       "                if (typeof element == 'undefined') {\n",
       "                    var scripts = document.getElementsByTagName('script');\n",
       "                    var thisScriptTag = scripts[scripts.length-1];\n",
       "                    var parentDiv = thisScriptTag.parentNode;\n",
       "                    e = document.createElement('div');\n",
       "                    parentDiv.appendChild(e);\n",
       "                } else {\n",
       "                    e = element[0];\n",
       "                }\n",
       "\n",
       "                if (typeof requirejs !== 'undefined') {\n",
       "                    // disable load timeout; ipython_app.js is large and can take a while to load.\n",
       "                    requirejs.config({waitSeconds: 0});\n",
       "                }\n",
       "\n",
       "                require(['https://static.turi.com/products/graphlab-create/2.1/canvas/js/ipython_app.js'], function(IPythonApp){\n",
       "                    var app = new IPythonApp();\n",
       "                    app.attachView('sframe','Plots', {\"selected_variable\": {\"name\": [\"sales\"], \"descriptives\": {\"rows\": 21613, \"columns\": 21}, \"view_component\": \"Plots\", \"view_file\": \"sframe\", \"view_params\": {\"y\": \"price\", \"x\": \"sqft_living\", \"columns\": [\"id\", \"date\", \"price\", \"bedrooms\", \"bathrooms\", \"sqft_living\", \"sqft_lot\", \"floors\", \"waterfront\", \"view\", \"condition\", \"grade\", \"sqft_above\", \"sqft_basement\", \"yr_built\", \"yr_renovated\", \"zipcode\", \"lat\", \"long\", \"sqft_living15\", \"sqft_lot15\"], \"view\": \"Scatter Plot\"}, \"view_components\": [\"Summary\", \"Table\", \"Bar Chart\", \"BoxWhisker Plot\", \"Line Chart\", \"Scatter Plot\", \"Heat Map\", \"Plots\"], \"type\": \"SFrame\", \"columns\": [{\"dtype\": \"str\", \"name\": \"id\"}, {\"dtype\": \"datetime\", \"name\": \"date\"}, {\"dtype\": \"int\", \"name\": \"price\"}, {\"dtype\": \"str\", \"name\": \"bedrooms\"}, {\"dtype\": \"str\", \"name\": \"bathrooms\"}, {\"dtype\": \"int\", \"name\": \"sqft_living\"}, {\"dtype\": \"int\", \"name\": \"sqft_lot\"}, {\"dtype\": \"str\", \"name\": \"floors\"}, {\"dtype\": \"int\", \"name\": \"waterfront\"}, {\"dtype\": \"int\", \"name\": \"view\"}, {\"dtype\": \"int\", \"name\": \"condition\"}, {\"dtype\": \"int\", \"name\": \"grade\"}, {\"dtype\": \"int\", \"name\": \"sqft_above\"}, {\"dtype\": \"int\", \"name\": \"sqft_basement\"}, {\"dtype\": \"int\", \"name\": \"yr_built\"}, {\"dtype\": \"int\", \"name\": \"yr_renovated\"}, {\"dtype\": \"str\", \"name\": \"zipcode\"}, {\"dtype\": \"float\", \"name\": \"lat\"}, {\"dtype\": \"float\", \"name\": \"long\"}, {\"dtype\": \"float\", \"name\": \"sqft_living15\"}, {\"dtype\": \"float\", \"name\": \"sqft_lot15\"}], \"column_identifiers\": [\"bathrooms\", \"sqft_living15\", \"sqft_above\", \"grade\", \"yr_built\", \"price\", \"bedrooms\", \"zipcode\", \"long\", \"id\", \"sqft_lot15\", \"sqft_living\", \"floors\", \"sqft_lot\", \"date\", \"waterfront\", \"sqft_basement\", \"yr_renovated\", \"lat\", \"condition\", \"view\"]}, \"complete\": 1, \"ipython\": true, \"progress\": 1.0, \"data\": [[1580, 705000], [2050, 403900], [770, 217000], [3010, 433495], [2130, 316000], [2220, 825000], [13540, 2280000], [1840, 645000], [1050, 250000], [1890, 323000], [3560, 662500], [3520, 800000], [1730, 319000], [1120, 750000], [830, 425000], [1400, 431750], [900, 290000], [1690, 457000], [1430, 350000], [2050, 1025000], [780, 135000], [2830, 1086000], [2370, 770000], [1850, 303000], [3600, 620000], [1894, 280000], [1760, 554000], [2660, 650000], [1020, 225000], [1860, 445000], [1780, 526000], [860, 122000], [2130, 392000], [1630, 185850], [2270, 645000], [3250, 967500], [1300, 245000], [2483, 360000], [2020, 552500], [2290, 572500], [3860, 1500000], [2490, 740000], [1600, 275000], [2410, 470000], [3250, 530000], [1494, 465000], [2830, 744000], [2000, 602000], [1720, 575000], [2210, 315000], [1600, 350000], [2920, 707000], [2155, 358800], [1040, 217450], [2470, 630000], [2340, 487600], [7120, 900000], [1210, 824000], [1320, 399700], [1480, 255000], [2690, 530000], [1400, 425000], [2790, 535000], [810, 260600], [1400, 295000], [2520, 272000], [2390, 282000], [3990, 810000], [940, 180000], [3630, 698000], [1440, 220000], [1730, 569000], [4460, 1910000], [1770, 439950], [4740, 1200000], [2670, 605000], [1510, 549000], [2400, 540000], [3150, 700000], [2360, 750000], [1460, 527200], [1530, 583500], [2220, 500000], [1740, 199950], [1960, 300000], [1677, 295000], [4330, 1700000], [2770, 461000], [1610, 215000], [1160, 345000], [1500, 440000], [1800, 375000], [2350, 339000], [1540, 413450], [2740, 395000], [3460, 808000], [1420, 535000], [2500, 395000], [1490, 445000], [4300, 1400000], [2331, 345000], [2440, 849000], [800, 189900], [1760, 300000], [1740, 577000], [1240, 290000], [1880, 212000], [3990, 649000], [1750, 472500], [1340, 376000], [1820, 327500], [2230, 750000], [1820, 300000], [980, 280000], [940, 253905], [1370, 199950], [1230, 375000], [950, 350000], [3160, 860000], [3330, 1240000], [1510, 525000], [1200, 130000], [4180, 1020000], [1320, 430000], [1430, 255000], [3450, 805000], [570, 260000], [1160, 450000], [1360, 329950], [2120, 425000], [2070, 320000], [2080, 450000], [1840, 285000], [1450, 550000], [800, 175000], [2710, 740000], [2270, 500000], [2760, 492500], [1510, 319950], [1850, 270000], [1820, 206000], [2500, 620000], [1610, 205000], [2520, 620000], [3060, 1762000], [540, 345000], [1300, 492000], [1700, 250000], [2260, 258000], [3680, 935000], [1830, 585000], [3020, 775000], [2210, 710000], [1620, 350000], [1310, 311000], [1560, 545500], [3220, 440000], [2220, 320000], [2710, 715000], [2060, 575550], [1890, 425000], [1200, 290000], [2430, 412000], [1651, 363000], [1260, 270000], [3420, 855000], [1300, 439888], [1030, 345000], [1230, 139500], [1730, 210000], [620, 175000], [1890, 359000], [2320, 400000], [1270, 134000], [2200, 655000], [1750, 477000], [1710, 463000], [4720, 745000], [2200, 359000], [2120, 615000], [4020, 1075000], [2850, 535000], [840, 124000], [1350, 626000], [2800, 605000], [1250, 443725], [1160, 350000], [1930, 560000], [2160, 733000], [2300, 525000], [860, 397000], [2160, 440000], [2370, 860000], [1150, 430000], [1030, 250000], [2360, 532000], [3110, 960000], [1320, 327000], [1670, 678000], [1350, 385000], [3170, 1085000], [1410, 334200], [3130, 500000], [2689, 425000], [1230, 200000], [1380, 322000], [1280, 232000], [2340, 660000], [1160, 365000], [3380, 554000], [990, 225000], [1270, 625504], [1430, 478000], [980, 295000], [1550, 500000], [2550, 808000], [2290, 450000], [2190, 625000], [1410, 335000], [2170, 765000], [1240, 390000], [2090, 299500], [810, 510000], [2320, 384000], [1660, 716000], [1150, 425000], [1040, 339888], [1782, 326000], [1410, 269000], [2640, 632500], [2090, 349950], [3150, 370000], [2970, 699000], [1390, 245000], [640, 279200], [3950, 1052500], [2590, 465000], [1770, 643002], [1890, 524950], [1320, 369000], [920, 215150], [2850, 545400], [2550, 452250], [2520, 689950], [2370, 640000], [1540, 244000], [1660, 263000], [2060, 294000], [2040, 261000], [1930, 245000], [1100, 420000], [2120, 370000], [2150, 300499], [1220, 415000], [1730, 245000], [2360, 1300000], [720, 155000], [4250, 1208000], [2760, 424950], [1870, 330000], [1330, 197500], [2080, 231500], [2480, 525000], [5290, 1690000], [2450, 359950], [2040, 335000], [1790, 263000], [3280, 594950], [1740, 472000], [1530, 412500], [4410, 1240000], [1040, 436000], [1910, 585000], [2480, 729000], [2040, 449500], [2900, 352000], [860, 353000], [3610, 968000], [2210, 455000], [1540, 630000], [2380, 384950], [1880, 340000], [2200, 285000], [2441, 340000], [2420, 330000], [1920, 900000], [1850, 295000], [1740, 445000], [1600, 439500], [3810, 1700000], [2050, 386000], [1850, 295000], [1520, 470000], [4470, 1120000], [2310, 580000], [3470, 2150000], [1320, 265000], [1010, 194000], [1270, 370000], [1480, 865000], [1320, 422000], [1630, 350000], [1820, 359000], [2200, 1100000], [2440, 350000], [3220, 763000], [1800, 550000], [1300, 321000], [1840, 750000], [1040, 234000], [1410, 600000], [950, 320000], [1950, 345100], [2390, 984000], [1770, 245000], [1650, 472500], [1440, 253500], [1980, 295000], [6390, 2466350], [2550, 328950], [2320, 562500], [1860, 314950], [1860, 460000], [1480, 290000], [4290, 1705000], [1240, 240500], [1730, 460000], [2300, 465000], [1000, 186375], [1830, 419995], [2800, 880000], [1210, 305000], [1280, 595000], [1070, 640000], [1600, 280000], [1550, 440000], [960, 345000], [1610, 735000], [2220, 595000], [1870, 485000], [1500, 235000], [820, 294000], [1610, 449950], [1410, 274800], [1880, 326000], [1120, 228950], [3070, 1000750], [1380, 435000], [2320, 345000], [3530, 930000], [2250, 675000], [1780, 342000], [2280, 625000], [880, 196000], [2660, 1712750], [2830, 1075000], [710, 216500], [3480, 950000], [1370, 280000], [1800, 610000], [1950, 798500], [2400, 335000], [2210, 510000], [3810, 1130000], [600, 110000], [1870, 248000], [1870, 299990], [1840, 210500], [1680, 545000], [5780, 2890000], [1460, 705000], [2820, 875000], [2340, 645000], [2620, 355000], [2400, 523000], [1020, 241000], [2240, 530000], [2440, 745641], [2190, 379900], [2140, 710000], [2120, 550000], [1150, 270000], [1700, 245000], [1960, 280000], [1780, 272450], [1140, 330000], [1660, 188000], [1320, 339950], [1800, 606400], [1400, 230000], [4060, 404000], [5240, 1862000], [2200, 460000], [940, 725000], [1240, 403000], [3750, 2903000], [1730, 275000], [1620, 525000], [910, 235000], [3770, 665000], [2330, 344950], [2940, 950000], [870, 503000], [2520, 392400], [2050, 613200], [1270, 655000], [2110, 380000], [2074, 515100], [1430, 200000], [880, 415000], [2230, 490000], [3840, 1135000], [1040, 375000], [3040, 725000], [3610, 1015000], [1950, 500000], [1750, 435000], [1470, 865000], [2400, 390000], [1510, 230000], [3970, 2300000], [1730, 700000], [2250, 538000], [1340, 425000], [1920, 535000], [2470, 430000], [2010, 350000], [2000, 710000], [1370, 548000], [3380, 655500], [3260, 810000], [1950, 298000], [1720, 525000], [1490, 237000], [1490, 412500], [2240, 300000], [2640, 462000], [1580, 424000], [1310, 291750], [2540, 990000], [960, 215000], [4180, 869000], [1290, 331000], [2130, 749000], [3410, 1405000], [1730, 499990], [1280, 279000], [1620, 499100], [2340, 475000], [1920, 330000], [3280, 702000], [970, 165000], [1553, 240000], [2360, 691100], [1020, 307000], [3080, 830000], [2390, 355000], [1540, 260000], [3140, 578000], [1550, 433000], [1070, 542000], [1510, 415000], [2820, 543200], [2420, 332000], [1590, 349000], [960, 200000], [2810, 340000], [880, 454000], [2270, 340500], [960, 545000], [2440, 1285000], [3090, 855000], [2240, 323500], [860, 195000], [3040, 735000], [940, 252000], [3410, 675000], [1340, 399000], [1280, 443000], [2770, 285000], [4380, 995000], [1280, 389000], [3190, 1249000], [2940, 464500], [990, 245000], [2200, 315000], [790, 395000], [2130, 310000], [820, 532500], [1710, 250500], [1300, 337500], [1960, 285000], [1490, 207000], [560, 106000], [1700, 565000], [3190, 535000], [970, 209500], [3420, 839900], [3210, 750000], [2170, 353000], [2740, 690000], [1640, 279000], [1810, 550000], [1220, 231000], [1460, 265800], [1330, 240000], [2450, 800000], [2630, 855000], [1250, 299000], [1620, 459000], [2190, 245000], [3230, 815000], [3160, 579000], [1990, 619000], [1720, 664000], [2440, 610000], [1680, 366350], [1350, 190000], [2180, 545000], [3180, 890000], [1690, 550000], [1600, 285000], [2870, 650000], [790, 435000], [1750, 410000], [3330, 555000], [1320, 395000], [2880, 775000], [770, 307000], [1278, 358000], [4150, 988990], [4570, 1580000], [1680, 675000], [3110, 799990], [2930, 905000], [3170, 910000], [2460, 960000], [920, 250000], [1730, 645000], [2940, 480000], [1170, 207500], [1650, 475000], [2020, 599500], [2230, 464950], [1940, 432500], [1000, 390000], [1920, 380000], [1070, 259950], [2750, 763776], [1830, 295000], [3080, 2160000], [2410, 715500], [1200, 232000], [4320, 1600000], [2800, 863000], [1660, 367500], [4640, 1950000], [1400, 432000], [1120, 435000], [2050, 331500], [3140, 990000], [2100, 335000], [1350, 272450], [1390, 186950], [1390, 218500], [1110, 279000], [2370, 387865], [1340, 300000], [3130, 652500], [2610, 665000], [1590, 330000], [1820, 480000], [3710, 846450], [1250, 520000], [3760, 1580000], [1800, 474900], [1700, 225000], [1170, 275000], [1330, 479000], [2390, 267500], [2970, 526000], [4400, 1800000], [2400, 650000], [690, 260000], [2153, 259000], [2300, 482000], [1200, 250000], [1660, 343500], [2020, 490000], [2090, 289950], [1450, 210000], [1880, 349950], [2040, 610000], [1190, 329000], [2790, 599000], [2130, 435000], [2400, 403500], [1970, 379950], [2700, 385000], [1740, 447000], [2410, 711800], [840, 199950], [2370, 522500], [1430, 350000], [1800, 442500], [1960, 560000], [2480, 725000], [2290, 737000], [2920, 868500], [2230, 415000], [2000, 536500], [1870, 650000], [1440, 330000], [2810, 386000], [1780, 299950], [3750, 910000], [2780, 1090000], [3040, 598780], [2380, 699900], [4170, 1300000], [5710, 930000], [3160, 574950], [2470, 565000], [1500, 700000], [1440, 515000], [2360, 569900], [2440, 720000], [930, 200000], [1370, 375000], [3250, 480000], [1770, 606150], [1790, 390000], [2080, 426700], [3550, 659950], [1000, 425000], [3202, 460940], [2140, 564000], [1360, 245000], [880, 615000], [2170, 359800], [2460, 990000], [2950, 482000], [1580, 749000], [2230, 836500], [2360, 430000], [1570, 560000], [1380, 272000], [1140, 549000], [1300, 595000], [2040, 480000], [1820, 548500], [2100, 335000], [2478, 386000], [1710, 320000], [2190, 286000], [1090, 463500], [1360, 257500], [3310, 803100], [2670, 925000], [2210, 412000], [1070, 361500], [1120, 360000], [1920, 465000], [1330, 425000], [1290, 323000], [1190, 311000], [2168, 575000], [3410, 585000], [2120, 693000], [2770, 650000], [4460, 833450], [1390, 445500], [1010, 560000], [1540, 759600], [1800, 385000], [2370, 398096], [2290, 349900], [2430, 585000], [3870, 1127500], [3040, 700000], [920, 490000], [2580, 799000], [2810, 407000], [1690, 390000], [2090, 288000], [1470, 415000], [2570, 275000], [800, 230000], [1710, 358990], [1500, 396000], [2060, 417500], [830, 135000], [3840, 970000], [1140, 197200], [1640, 710000], [1240, 505000], [3110, 1415000], [1240, 270000], [3260, 715000], [2160, 1010000], [1890, 645500], [1060, 420000], [4720, 875000], [3080, 841000], [4500, 870000], [660, 225000], [1770, 350000], [2250, 395000], [840, 135000], [1270, 256000], [1370, 315000], [1930, 319000], [2300, 417000], [770, 277000], [1610, 393000], [2060, 323400], [1100, 502501], [3080, 585000], [1490, 429000], [580, 109000], [1850, 260000], [1210, 478000], [960, 137124], [720, 270000], [2400, 405000], [3160, 625000], [1463, 390000], [1450, 375000], [2030, 485000], [3430, 960000], [2070, 535100], [1140, 476000], [3820, 1274950], [6260, 1180000], [2430, 452500], [1860, 380000], [760, 375000], [2680, 750000], [2380, 875000], [1800, 522000], [1320, 385000], [1190, 235000], [2210, 250000], [1810, 299500], [1400, 194000], [1650, 267500], [4230, 847700], [860, 199988], [3680, 1378000], [2410, 1440000], [1250, 385000], [1834, 280000], [2790, 640000], [1210, 219950], [2850, 750000], [1140, 570000], [1140, 425000], [1340, 383000], [2470, 898000], [1610, 390000], [1480, 256000], [3550, 859000], [1210, 457500], [3000, 850000], [2390, 405300], [1720, 449000], [1360, 280000], [860, 198000], [2623, 333000], [2560, 460000], [2240, 608000], [1900, 200000], [1030, 175000], [1130, 631500], [5730, 1228000], [1580, 335000], [1040, 396000], [1830, 300000], [1860, 215000], [1000, 397000], [3370, 699950], [1530, 230000], [2160, 550000], [2220, 349990], [1470, 426000], [1720, 235000], [3210, 870000], [2620, 1360000], [2310, 713000], [3490, 1311000], [2550, 349000], [1460, 415000], [2350, 555000], [2040, 330000], [2580, 1770000], [1310, 526500], [2580, 305000], [2260, 477590], [2100, 470000], [1530, 265000], [1500, 290000], [1950, 275000], [2940, 420000], [980, 350000], [2500, 1700000], [1920, 250000], [1900, 435000], [2420, 350000], [3840, 2152500], [1530, 449950], [1250, 345000], [2440, 954500], [1330, 348000], [3740, 710000], [2340, 505000], [1750, 774900], [2450, 500000], [2110, 479000], [3650, 697000], [1460, 400000], [1410, 390000], [3090, 384900], [1920, 329000], [1870, 313999], [2495, 267000], [3870, 1299888], [3760, 555000], [2360, 542126], [3010, 870000], [2260, 705000], [4386, 545000], [2740, 350000], [2690, 620000], [2200, 376000], [2130, 344000], [2250, 750000], [2320, 451000], [1350, 345000], [1530, 387000], [2510, 557500], [1250, 275000], [2910, 915000], [1640, 414250], [1480, 315000], [2600, 316000], [2260, 628000], [1310, 663500], [2580, 865000], [2850, 540000], [2320, 375000], [2000, 595000], [3050, 465000], [840, 191000], [1430, 575000], [1130, 384500], [1150, 307000], [1110, 320000], [1590, 399950], [2840, 500000], [2090, 405000], [2460, 427500], [1750, 199500], [2630, 731781], [3640, 939000], [1170, 235000], [2170, 488800], [1720, 420000], [1640, 645000], [1690, 612500], [1510, 515000], [670, 390000], [3110, 925000], [950, 285000], [3300, 785000], [1840, 442500], [1790, 397000], [2070, 312000], [1250, 225000], [3770, 940000], [2810, 725000], [1677, 281000], [2475, 329900], [960, 525000], [1120, 540000], [1270, 160797], [1780, 555000], [1300, 198000], [770, 269000], [3620, 1525000], [1740, 204950], [1710, 525000], [1020, 242500], [1470, 468000], [1570, 417000], [2630, 585000], [3530, 898000], [2350, 459995], [3480, 590000], [1769, 334888], [3100, 1289000], [1570, 214950], [2130, 586000], [3100, 905000], [1010, 200000], [2390, 335000], [1590, 580000], [1400, 325088], [1410, 255000], [840, 185000], [2540, 660000], [780, 360000], [1240, 352499], [3600, 1112500], [1150, 227500], [2130, 645000], [1790, 246950], [2260, 675000], [3700, 1100000], [2240, 340000], [2040, 345000], [3720, 1080000], [2910, 945000], [2090, 327500], [1910, 650000], [1250, 255000], [2910, 780000], [2210, 685000], [900, 230000], [1570, 370000], [1470, 300000], [1100, 225500], [1480, 520000], [1790, 509900], [1640, 375000], [2330, 891000], [2340, 396000], [1960, 560000], [1170, 205000], [2180, 425000], [2220, 785000], [1820, 557500], [1730, 335000], [2700, 723000], [1760, 220000], [2240, 635000], [2030, 349500], [1810, 260000], [1900, 275000], [800, 440000], [1970, 812000], [2680, 599950], [3340, 701000], [1440, 476000], [1030, 330000], [1650, 495000], [2020, 495000], [2280, 565000], [2840, 535000], [2590, 538250], [2940, 590000], [1690, 500000], [3220, 359999], [2480, 1050000], [1560, 269000], [1790, 420000], [2270, 732350], [2980, 1058800], [2190, 808000], [2780, 625000], [1430, 407000], [2270, 585000], [2850, 875000], [1460, 337000], [1280, 215000], [1800, 493500], [2570, 519000], [1460, 580000], [970, 217000], [1540, 530100], [1470, 554600], [1930, 275000], [1490, 259900], [1090, 200000], [2750, 604700], [1300, 270000], [1650, 643500], [2320, 299000], [1430, 403250], [1330, 265000], [1670, 484950], [2870, 2000000], [3760, 1150000], [990, 120000], [2770, 653000], [1970, 408000], [2540, 800000], [980, 340000], [1100, 240000], [3500, 895000], [1310, 299800]], \"columns\": [{\"dtype\": \"str\", \"name\": \"id\"}, {\"dtype\": \"datetime\", \"name\": \"date\"}, {\"dtype\": \"int\", \"name\": \"price\"}, {\"dtype\": \"str\", \"name\": \"bedrooms\"}, {\"dtype\": \"str\", \"name\": \"bathrooms\"}, {\"dtype\": \"int\", \"name\": \"sqft_living\"}, {\"dtype\": \"int\", \"name\": \"sqft_lot\"}, {\"dtype\": \"str\", \"name\": \"floors\"}, {\"dtype\": \"int\", \"name\": \"waterfront\"}, {\"dtype\": \"int\", \"name\": \"view\"}, {\"dtype\": \"int\", \"name\": \"condition\"}, {\"dtype\": \"int\", \"name\": \"grade\"}, {\"dtype\": \"int\", \"name\": \"sqft_above\"}, {\"dtype\": \"int\", \"name\": \"sqft_basement\"}, {\"dtype\": \"int\", \"name\": \"yr_built\"}, {\"dtype\": \"int\", \"name\": \"yr_renovated\"}, {\"dtype\": \"str\", \"name\": \"zipcode\"}, {\"dtype\": \"float\", \"name\": \"lat\"}, {\"dtype\": \"float\", \"name\": \"long\"}, {\"dtype\": \"float\", \"name\": \"sqft_living15\"}, {\"dtype\": \"float\", \"name\": \"sqft_lot15\"}]}, e);\n",
       "                });\n",
       "            })();\n",
       "        "
      ]
     },
     "metadata": {},
     "output_type": "display_data"
    }
   ],
   "source": [
    "graphlab.canvas.set_target(\"ipynb\")\n",
    "sales.show(view=\"Scatter Plot\", x=\"sqft_living\", y=\"price\")"
   ]
  },
  {
   "cell_type": "code",
   "execution_count": 9,
   "metadata": {
    "collapsed": true
   },
   "outputs": [],
   "source": [
    "train_data,test_data = sales.random_split(0.8,seed=1314)"
   ]
  },
  {
   "cell_type": "markdown",
   "metadata": {},
   "source": [
    "## build the regression model"
   ]
  },
  {
   "cell_type": "code",
   "execution_count": 10,
   "metadata": {
    "collapsed": false
   },
   "outputs": [
    {
     "name": "stdout",
     "output_type": "stream",
     "text": [
      "PROGRESS: Creating a validation set from 5 percent of training data. This may take a while.\n",
      "          You can set ``validation_set=None`` to disable validation tracking.\n",
      "\n"
     ]
    },
    {
     "data": {
      "text/html": [
       "<pre>Linear regression:</pre>"
      ],
      "text/plain": [
       "Linear regression:"
      ]
     },
     "metadata": {},
     "output_type": "display_data"
    },
    {
     "data": {
      "text/html": [
       "<pre>--------------------------------------------------------</pre>"
      ],
      "text/plain": [
       "--------------------------------------------------------"
      ]
     },
     "metadata": {},
     "output_type": "display_data"
    },
    {
     "data": {
      "text/html": [
       "<pre>Number of examples          : 16545</pre>"
      ],
      "text/plain": [
       "Number of examples          : 16545"
      ]
     },
     "metadata": {},
     "output_type": "display_data"
    },
    {
     "data": {
      "text/html": [
       "<pre>Number of features          : 1</pre>"
      ],
      "text/plain": [
       "Number of features          : 1"
      ]
     },
     "metadata": {},
     "output_type": "display_data"
    },
    {
     "data": {
      "text/html": [
       "<pre>Number of unpacked features : 1</pre>"
      ],
      "text/plain": [
       "Number of unpacked features : 1"
      ]
     },
     "metadata": {},
     "output_type": "display_data"
    },
    {
     "data": {
      "text/html": [
       "<pre>Number of coefficients    : 2</pre>"
      ],
      "text/plain": [
       "Number of coefficients    : 2"
      ]
     },
     "metadata": {},
     "output_type": "display_data"
    },
    {
     "data": {
      "text/html": [
       "<pre>Starting Newton Method</pre>"
      ],
      "text/plain": [
       "Starting Newton Method"
      ]
     },
     "metadata": {},
     "output_type": "display_data"
    },
    {
     "data": {
      "text/html": [
       "<pre>--------------------------------------------------------</pre>"
      ],
      "text/plain": [
       "--------------------------------------------------------"
      ]
     },
     "metadata": {},
     "output_type": "display_data"
    },
    {
     "data": {
      "text/html": [
       "<pre>+-----------+----------+--------------+--------------------+----------------------+---------------+-----------------+</pre>"
      ],
      "text/plain": [
       "+-----------+----------+--------------+--------------------+----------------------+---------------+-----------------+"
      ]
     },
     "metadata": {},
     "output_type": "display_data"
    },
    {
     "data": {
      "text/html": [
       "<pre>| Iteration | Passes   | Elapsed Time | Training-max_error | Validation-max_error | Training-rmse | Validation-rmse |</pre>"
      ],
      "text/plain": [
       "| Iteration | Passes   | Elapsed Time | Training-max_error | Validation-max_error | Training-rmse | Validation-rmse |"
      ]
     },
     "metadata": {},
     "output_type": "display_data"
    },
    {
     "data": {
      "text/html": [
       "<pre>+-----------+----------+--------------+--------------------+----------------------+---------------+-----------------+</pre>"
      ],
      "text/plain": [
       "+-----------+----------+--------------+--------------------+----------------------+---------------+-----------------+"
      ]
     },
     "metadata": {},
     "output_type": "display_data"
    },
    {
     "data": {
      "text/html": [
       "<pre>| 1         | 2        | 1.021972     | 4353064.319824     | 2901352.983527       | 260884.387421 | 283673.133826   |</pre>"
      ],
      "text/plain": [
       "| 1         | 2        | 1.021972     | 4353064.319824     | 2901352.983527       | 260884.387421 | 283673.133826   |"
      ]
     },
     "metadata": {},
     "output_type": "display_data"
    },
    {
     "data": {
      "text/html": [
       "<pre>+-----------+----------+--------------+--------------------+----------------------+---------------+-----------------+</pre>"
      ],
      "text/plain": [
       "+-----------+----------+--------------+--------------------+----------------------+---------------+-----------------+"
      ]
     },
     "metadata": {},
     "output_type": "display_data"
    },
    {
     "data": {
      "text/html": [
       "<pre>SUCCESS: Optimal solution found.</pre>"
      ],
      "text/plain": [
       "SUCCESS: Optimal solution found."
      ]
     },
     "metadata": {},
     "output_type": "display_data"
    },
    {
     "data": {
      "text/html": [
       "<pre></pre>"
      ],
      "text/plain": []
     },
     "metadata": {},
     "output_type": "display_data"
    }
   ],
   "source": [
    "sqft_model = graphlab.linear_regression.create(train_data, target='price', features=[\"sqft_living\"])"
   ]
  },
  {
   "cell_type": "code",
   "execution_count": 11,
   "metadata": {
    "collapsed": false
   },
   "outputs": [
    {
     "name": "stdout",
     "output_type": "stream",
     "text": [
      "543193.925524\n"
     ]
    }
   ],
   "source": [
    "print test_data['price'].mean()"
   ]
  },
  {
   "cell_type": "code",
   "execution_count": 12,
   "metadata": {
    "collapsed": false
   },
   "outputs": [
    {
     "data": {
      "text/plain": [
       "{'max_error': 3143368.549526522, 'rmse': 258515.21961541762}"
      ]
     },
     "execution_count": 12,
     "metadata": {},
     "output_type": "execute_result"
    }
   ],
   "source": [
    "sqft_model.evaluate(test_data)"
   ]
  },
  {
   "cell_type": "markdown",
   "metadata": {},
   "source": [
    "# Let's show what our predictions look like"
   ]
  },
  {
   "cell_type": "code",
   "execution_count": 14,
   "metadata": {
    "collapsed": false
   },
   "outputs": [],
   "source": [
    "import matplotlib.pyplot as plt\n",
    "%matplotlib inline"
   ]
  },
  {
   "cell_type": "code",
   "execution_count": 19,
   "metadata": {
    "collapsed": false
   },
   "outputs": [
    {
     "data": {
      "text/plain": [
       "[<matplotlib.lines.Line2D at 0x11e0b4410>,\n",
       " <matplotlib.lines.Line2D at 0x11e0b44d0>]"
      ]
     },
     "execution_count": 19,
     "metadata": {},
     "output_type": "execute_result"
    },
    {
     "data": {
      "image/png": "[encoded data removed]",
      "text/plain": [
       "<matplotlib.figure.Figure at 0x11e3d4710>"
      ]
     },
     "metadata": {},
     "output_type": "display_data"
    }
   ],
   "source": [
    "plt.plot(test_data['sqft_living'], test_data['price'],'.', test_data['sqft_living'], sqft_model.predict(test_data),'*')"
   ]
  },
  {
   "cell_type": "code",
   "execution_count": null,
   "metadata": {
    "collapsed": true
   },
   "outputs": [],
   "source": [
    "my_feature_model=graphlab.linear_regression.create(train_data, target=\"price\", feather=[\"\"])"
   ]
  }
 ],
 "metadata": {
  "kernelspec": {
   "display_name": "Python 2",
   "language": "python",
   "name": "python2"
  },
  "language_info": {
   "codemirror_mode": {
    "name": "ipython",
    "version": 2
   },
   "file_extension": ".py",
   "mimetype": "text/x-python",
   "name": "python",
   "nbconvert_exporter": "python",
   "pygments_lexer": "ipython2",
   "version": "2.7.11"
  }
 },
 "nbformat": 4,
 "nbformat_minor": 0
}
